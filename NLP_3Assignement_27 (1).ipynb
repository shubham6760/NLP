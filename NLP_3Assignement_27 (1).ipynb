{
  "nbformat": 4,
  "nbformat_minor": 0,
  "metadata": {
    "colab": {
      "provenance": []
    },
    "kernelspec": {
      "name": "python3",
      "display_name": "Python 3"
    },
    "language_info": {
      "name": "python"
    }
  },
  "cells": [
    {
      "cell_type": "markdown",
      "source": [
        "Tokenization\n",
        "\n",
        "part of speech tracking\n",
        "\n",
        "stemming\n",
        "\n",
        "lemmmetization\n",
        "\n",
        "stop words & punctuation"
      ],
      "metadata": {
        "id": "cZ3g_dgijLv-"
      }
    },
    {
      "cell_type": "code",
      "execution_count": null,
      "metadata": {
        "id": "VNmWmYfPjLNm"
      },
      "outputs": [],
      "source": [
        "import numpy as np\n",
        "import pandas as pd\n"
      ]
    },
    {
      "cell_type": "code",
      "source": [
        "import spacy"
      ],
      "metadata": {
        "id": "euRPDtAQrYVl",
        "colab": {
          "base_uri": "https://localhost:8080/"
        },
        "outputId": "fd5d67c5-34c7-4ab2-af20-542afd76a058"
      },
      "execution_count": null,
      "outputs": [
        {
          "output_type": "stream",
          "name": "stderr",
          "text": [
            "/usr/local/lib/python3.8/dist-packages/torch/cuda/__init__.py:497: UserWarning: Can't initialize NVML\n",
            "  warnings.warn(\"Can't initialize NVML\")\n"
          ]
        }
      ]
    },
    {
      "cell_type": "code",
      "source": [
        "NLPModel = spacy.load('en_core_web_sm')\n",
        "NLPModel"
      ],
      "metadata": {
        "colab": {
          "base_uri": "https://localhost:8080/"
        },
        "id": "BwuYIGG_t1ax",
        "outputId": "3f123ed2-1271-40e1-d315-5ba1da661cec"
      },
      "execution_count": null,
      "outputs": [
        {
          "output_type": "execute_result",
          "data": {
            "text/plain": [
              "<spacy.lang.en.English at 0x7f90eb8d72e0>"
            ]
          },
          "metadata": {},
          "execution_count": 3
        }
      ]
    },
    {
      "cell_type": "code",
      "source": [
        "text = \"Wlcome to online learning of NPL!! Here we will use <Audio>, <Video>, <Text>, <Images> as an input.\""
      ],
      "metadata": {
        "id": "G8XBAvNkJn_p"
      },
      "execution_count": null,
      "outputs": []
    },
    {
      "cell_type": "code",
      "source": [
        "doc = NLPModel(text)"
      ],
      "metadata": {
        "id": "ekVBy0DjJrg-"
      },
      "execution_count": null,
      "outputs": []
    },
    {
      "cell_type": "markdown",
      "source": [
        "# Tokenization"
      ],
      "metadata": {
        "id": "boko_4sxKDyW"
      }
    },
    {
      "cell_type": "code",
      "source": [
        "nlp = spacy.blank(\"en\")  \n",
        "t = doc\n",
        "for token in t:\n",
        "    print(token)"
      ],
      "metadata": {
        "colab": {
          "base_uri": "https://localhost:8080/"
        },
        "id": "OhM07HyrKGBC",
        "outputId": "280a73bd-f0d1-4ed1-9075-12393fd977d8"
      },
      "execution_count": null,
      "outputs": [
        {
          "output_type": "stream",
          "name": "stdout",
          "text": [
            "Wlcome\n",
            "to\n",
            "online\n",
            "learning\n",
            "of\n",
            "NPL\n",
            "!\n",
            "!\n",
            "Here\n",
            "we\n",
            "will\n",
            "use\n",
            "<\n",
            "Audio\n",
            ">\n",
            ",\n",
            "<\n",
            "Video\n",
            ">\n",
            ",\n",
            "<\n",
            "Text\n",
            ">\n",
            ",\n",
            "<\n",
            "Images\n",
            ">\n",
            "as\n",
            "an\n",
            "input\n",
            ".\n"
          ]
        }
      ]
    },
    {
      "cell_type": "markdown",
      "source": [
        "# POS Tagging"
      ],
      "metadata": {
        "id": "b9pae61AKagy"
      }
    },
    {
      "cell_type": "code",
      "source": [
        "nlp = spacy.load(\"en_core_web_sm\")\n",
        "t = doc\n",
        "for token in t:\n",
        "  print(token, token.pos_)"
      ],
      "metadata": {
        "colab": {
          "base_uri": "https://localhost:8080/"
        },
        "id": "K05haVQFKjTw",
        "outputId": "9a46a6fe-150e-4b21-bc9f-66b57b716f63"
      },
      "execution_count": null,
      "outputs": [
        {
          "output_type": "stream",
          "name": "stdout",
          "text": [
            "Wlcome PROPN\n",
            "to ADP\n",
            "online ADJ\n",
            "learning NOUN\n",
            "of ADP\n",
            "NPL PROPN\n",
            "! PUNCT\n",
            "! PUNCT\n",
            "Here ADV\n",
            "we PRON\n",
            "will AUX\n",
            "use VERB\n",
            "< X\n",
            "Audio NOUN\n",
            "> PROPN\n",
            ", PUNCT\n",
            "< X\n",
            "Video NOUN\n",
            "> PROPN\n",
            ", PUNCT\n",
            "< X\n",
            "Text PROPN\n",
            "> PROPN\n",
            ", PUNCT\n",
            "< X\n",
            "Images NOUN\n",
            "> X\n",
            "as ADP\n",
            "an DET\n",
            "input NOUN\n",
            ". PUNCT\n"
          ]
        }
      ]
    },
    {
      "cell_type": "markdown",
      "source": [
        "# Lemmatization"
      ],
      "metadata": {
        "id": "v5kyKOA0KqLR"
      }
    },
    {
      "cell_type": "code",
      "source": [
        "nlp = spacy.load(\"en_core_web_sm\")\n",
        "t = doc\n",
        "for token in t:\n",
        "    print(token.lemma_)"
      ],
      "metadata": {
        "colab": {
          "base_uri": "https://localhost:8080/"
        },
        "id": "0epqlAFvKuVX",
        "outputId": "b8f15cad-a1b4-41cc-d7d8-2b0cc11d8f9c"
      },
      "execution_count": null,
      "outputs": [
        {
          "output_type": "stream",
          "name": "stdout",
          "text": [
            "Wlcome\n",
            "to\n",
            "online\n",
            "learning\n",
            "of\n",
            "NPL\n",
            "!\n",
            "!\n",
            "here\n",
            "we\n",
            "will\n",
            "use\n",
            "<\n",
            "audio\n",
            ">\n",
            ",\n",
            "<\n",
            "video\n",
            ">\n",
            ",\n",
            "<\n",
            "Text\n",
            ">\n",
            ",\n",
            "<\n",
            "image\n",
            ">\n",
            "as\n",
            "an\n",
            "input\n",
            ".\n"
          ]
        }
      ]
    },
    {
      "cell_type": "code",
      "source": [
        "#Morph\n",
        "for token in t:\n",
        "    print(token,token.morph)"
      ],
      "metadata": {
        "colab": {
          "base_uri": "https://localhost:8080/"
        },
        "id": "R4ELxFkgKzf8",
        "outputId": "65a8de23-1985-44fe-f033-659bd92019d4"
      },
      "execution_count": null,
      "outputs": [
        {
          "output_type": "stream",
          "name": "stdout",
          "text": [
            "Wlcome Number=Sing\n",
            "to \n",
            "online Degree=Pos\n",
            "learning Number=Sing\n",
            "of \n",
            "NPL Number=Sing\n",
            "! PunctType=Peri\n",
            "! PunctType=Peri\n",
            "Here PronType=Dem\n",
            "we Case=Nom|Number=Plur|Person=1|PronType=Prs\n",
            "will VerbForm=Fin\n",
            "use VerbForm=Inf\n",
            "< \n",
            "Audio Number=Sing\n",
            "> Number=Sing\n",
            ", PunctType=Comm\n",
            "< \n",
            "Video Number=Sing\n",
            "> Number=Sing\n",
            ", PunctType=Comm\n",
            "< \n",
            "Text Number=Sing\n",
            "> Number=Sing\n",
            ", PunctType=Comm\n",
            "< \n",
            "Images Number=Plur\n",
            "> \n",
            "as \n",
            "an Definite=Ind|PronType=Art\n",
            "input Number=Sing\n",
            ". PunctType=Peri\n"
          ]
        }
      ]
    },
    {
      "cell_type": "markdown",
      "source": [
        "# Removal Of Stop words"
      ],
      "metadata": {
        "id": "IDDGn6WZKwwX"
      }
    },
    {
      "cell_type": "code",
      "source": [
        "nlp = spacy.load(\"en_core_web_sm\")\n",
        "t = doc\n",
        "for token in t:\n",
        "  print(token.text,token.is_stop)"
      ],
      "metadata": {
        "colab": {
          "base_uri": "https://localhost:8080/"
        },
        "id": "VfjY11cNK8HC",
        "outputId": "cbed82c4-2241-4f7a-954e-bdfdc709bfb7"
      },
      "execution_count": null,
      "outputs": [
        {
          "output_type": "stream",
          "name": "stdout",
          "text": [
            "Wlcome False\n",
            "to True\n",
            "online False\n",
            "learning False\n",
            "of True\n",
            "NPL False\n",
            "! False\n",
            "! False\n",
            "Here True\n",
            "we True\n",
            "will True\n",
            "use False\n",
            "< False\n",
            "Audio False\n",
            "> False\n",
            ", False\n",
            "< False\n",
            "Video False\n",
            "> False\n",
            ", False\n",
            "< False\n",
            "Text False\n",
            "> False\n",
            ", False\n",
            "< False\n",
            "Images False\n",
            "> False\n",
            "as True\n",
            "an True\n",
            "input False\n",
            ". False\n"
          ]
        }
      ]
    },
    {
      "cell_type": "markdown",
      "source": [
        "# Add stop words to exisitng model"
      ],
      "metadata": {
        "id": "EUcYKYA9LaIV"
      }
    },
    {
      "cell_type": "code",
      "source": [
        "nlp.Defaults.stop_words.add('>')\n",
        "nlp.vocab['>'].is_stop=True\n",
        "nlp.Defaults.stop_words.add('<')\n",
        "nlp.vocab['<'].is_stop=True\n",
        "nlp.Defaults.stop_words.add('!')\n",
        "nlp.vocab['!'].is_stop=True"
      ],
      "metadata": {
        "id": "ukQ-aGdiLhSE"
      },
      "execution_count": null,
      "outputs": []
    },
    {
      "cell_type": "markdown",
      "source": [
        "# Remove stopwords"
      ],
      "metadata": {
        "id": "4AYxg8_lMDfS"
      }
    },
    {
      "cell_type": "code",
      "source": [
        "all_StopWordds = nlp.Defaults.stop_words"
      ],
      "metadata": {
        "id": "ASkhRxqlMFqk"
      },
      "execution_count": null,
      "outputs": []
    },
    {
      "cell_type": "code",
      "source": [
        "for token in doc:\n",
        "  print(token, token.is_stop)"
      ],
      "metadata": {
        "colab": {
          "base_uri": "https://localhost:8080/"
        },
        "id": "Gok8XElLMSdX",
        "outputId": "28ac64db-ddca-4e3d-aa83-4a150f297262"
      },
      "execution_count": null,
      "outputs": [
        {
          "output_type": "stream",
          "name": "stdout",
          "text": [
            "Wlcome False\n",
            "to True\n",
            "online False\n",
            "learning False\n",
            "of True\n",
            "NPL False\n",
            "! False\n",
            "! False\n",
            "Here True\n",
            "we True\n",
            "will True\n",
            "use False\n",
            "< False\n",
            "Audio False\n",
            "> False\n",
            ", False\n",
            "< False\n",
            "Video False\n",
            "> False\n",
            ", False\n",
            "< False\n",
            "Text False\n",
            "> False\n",
            ", False\n",
            "< False\n",
            "Images False\n",
            "> False\n",
            "as True\n",
            "an True\n",
            "input False\n",
            ". False\n"
          ]
        }
      ]
    },
    {
      "cell_type": "code",
      "source": [
        "lst=[]\n",
        "\n",
        "for token in text.split():\n",
        "  if token.lower() not in all_StopWordds:\n",
        "    lst.append(token)\n",
        "\n",
        "sw_text = ' '.join(lst)\n",
        "\n",
        "print(\"Original text:   \", text)\n",
        "print()\n",
        "print(\"After removing stopwords:    \",sw_text)"
      ],
      "metadata": {
        "colab": {
          "base_uri": "https://localhost:8080/"
        },
        "id": "IMuv4CQFMT2l",
        "outputId": "d268df5b-fde7-4706-c619-bed6f9428cfb"
      },
      "execution_count": null,
      "outputs": [
        {
          "output_type": "stream",
          "name": "stdout",
          "text": [
            "Original text:    Wlcome to online learning of NPL!! Here we will use <Audio>, <Video>, <Text>, <Images> as an input.\n",
            "\n",
            "After removing stopwords:     Wlcome online learning NPL!! use <Audio>, <Video>, <Text>, <Images> input.\n"
          ]
        }
      ]
    },
    {
      "cell_type": "markdown",
      "source": [
        "# Remove Punctuation"
      ],
      "metadata": {
        "id": "lCjEni2tNl6n"
      }
    },
    {
      "cell_type": "code",
      "source": [
        "lst=[]\n",
        "doc1 = nlp(sw_text)\n",
        "\n",
        "for token in doc1:\n",
        "  if token.is_punct == False:\n",
        "    lst.append(token)\n",
        "\n",
        "\n",
        "\n",
        "print(\"Original text:   \", text)\n",
        "print()\n",
        "print(\"After removing punctuation:    \",lst)"
      ],
      "metadata": {
        "colab": {
          "base_uri": "https://localhost:8080/"
        },
        "id": "nO_PsQxcNnzE",
        "outputId": "80e195b5-55ba-4441-a7fa-159471cf5d7a"
      },
      "execution_count": null,
      "outputs": [
        {
          "output_type": "stream",
          "name": "stdout",
          "text": [
            "Original text:    Wlcome to online learning of NPL!! Here we will use <Audio>, <Video>, <Text>, <Images> as an input.\n",
            "\n",
            "After removing punctuation:     [Wlcome, online, learning, NPL, use, <, Audio, >, <, Video, >, <, Text, >, <, Images, >, input]\n"
          ]
        }
      ]
    },
    {
      "cell_type": "markdown",
      "source": [
        "# Practice"
      ],
      "metadata": {
        "id": "MzAtuk7-NpUh"
      }
    },
    {
      "cell_type": "code",
      "source": [
        "print(NLPModel.Defaults.stop_words)"
      ],
      "metadata": {
        "colab": {
          "base_uri": "https://localhost:8080/"
        },
        "id": "L7FDlF6Dv-Cd",
        "outputId": "63048376-a23e-436a-f05d-3cb0b33b4808"
      },
      "execution_count": null,
      "outputs": [
        {
          "output_type": "stream",
          "name": "stdout",
          "text": [
            "{'every', 'might', 'otherwise', 'many', 'therefore', 'had', 'becomes', 'whereby', 'side', 'thence', 'really', 'move', 'would', '<', 'together', 'via', 'could', 'we', 'should', 'about', 'doing', \"n't\", 'per', 'myself', 'as', 'formerly', 'however', 'besides', 'using', 'us', 'put', 'fifty', 'my', 'mostly', \"'ll\", 'anyone', 'off', 'seemed', 'which', 'fifteen', 'anything', 'thereupon', 'i', 'latterly', '‘ve', 'on', 'the', 'just', 'each', 'by', '’d', 'another', 'keep', 'when', 'will', 'third', 'amongst', 'whereas', 'at', 'no', 'already', 'and', 'herein', 'nobody', 'here', 'hence', 'back', \"'ve\", 'least', 'so', 'always', 'because', 'hereby', 'nothing', 'his', 'must', 'being', 'thru', 'along', 'eleven', 'during', '‘d', 'once', 'cannot', 'alone', 'mine', 'yourselves', 'somehow', 'they', 'other', 'twenty', 'now', 'well', '>', 'moreover', 'she', 'although', 'none', 'but', 'wherein', 'without', 'is', 'then', 'whither', 'whence', 'either', 'not', 'please', '!', 'five', 'how', 'over', 'whoever', 'show', \"'re\", 'towards', 'them', 'hundred', 'part', 'very', 'ever', 'around', 'everyone', 'top', 'n’t', 'neither', 'also', 'everywhere', 'hereafter', 'more', 'someone', 'was', 'where', 'even', 'hers', 'own', 'until', 'front', 'much', 'some', 'yours', '’ll', 'anyway', 'else', 'am', 'can', 'between', 'an', \"'s\", 'your', 'all', 'across', 'almost', 'such', 'seems', 'have', 'anyhow', 'our', 'has', 'above', '’s', 'sixty', 'somewhere', 'noone', 'are', 'or', 'three', 'their', 'rather', 'meanwhile', 'been', 'still', 'nine', 'were', 'toward', 'regarding', 'whole', 'into', 'one', 'same', 'through', 'few', 'up', 'its', 'why', 'out', 'twelve', 'while', 'thereby', 'beyond', 'only', 'any', 'before', 'give', 'quite', 'used', 'something', 'thereafter', 'elsewhere', 'further', 'others', 'beside', 'make', 'herself', 'with', 'ourselves', 'except', 'that', 'unless', 'too', 'what', 'again', 'did', 'under', 'upon', 'amount', 'both', 'several', 'enough', 'if', 'seeming', 'becoming', 'to', 'less', 'himself', 'a', 'perhaps', 'her', 'everything', 'former', 'say', 'itself', '’m', 'there', 'name', 'within', 'whenever', 'onto', 'n‘t', 'thus', 'nevertheless', 'him', 'nowhere', 'made', 'indeed', 'whether', 'he', 'down', 'eight', 'from', 'this', 'two', 'four', 'nor', 'among', 'yourself', 'last', 'sometimes', \"'m\", 'you', 'see', 'serious', 'behind', 'full', 'sometime', 'latter', 'therein', 'bottom', '‘s', 'beforehand', '’ve', 'of', 'be', 'become', 'ours', 'after', 'whereupon', \"'d\", 'go', 'due', 'anywhere', 'six', 'whatever', 'became', 'forty', 'though', 'whom', 'below', 're', 'it', 'does', 'whereafter', 'namely', '‘m', 'since', 'take', 'various', 'yet', 'ten', 'whose', 'against', 'ca', 'these', 'next', 'afterwards', 'who', 'call', 'often', '‘re', 'themselves', 'may', '’re', 'get', 'seem', 'me', 'those', 'in', '‘ll', 'empty', 'never', 'for', 'done', 'do', 'hereupon', 'first', 'throughout', 'than', 'wherever', 'most'}\n"
          ]
        }
      ]
    },
    {
      "cell_type": "code",
      "source": [
        "len(NLPModel.Defaults.stop_words)"
      ],
      "metadata": {
        "colab": {
          "base_uri": "https://localhost:8080/"
        },
        "id": "I6k01HLiwS8s",
        "outputId": "c2cf34b3-daf5-4876-92f2-3a1316890b59"
      },
      "execution_count": null,
      "outputs": [
        {
          "output_type": "execute_result",
          "data": {
            "text/plain": [
              "329"
            ]
          },
          "metadata": {},
          "execution_count": 17
        }
      ]
    },
    {
      "cell_type": "code",
      "source": [
        "NLPModel.vocab['btw'].is_stop"
      ],
      "metadata": {
        "colab": {
          "base_uri": "https://localhost:8080/"
        },
        "id": "46Os2jTZwN2O",
        "outputId": "5bd6f54a-949e-4198-aa9c-0c275e322cd4"
      },
      "execution_count": null,
      "outputs": [
        {
          "output_type": "execute_result",
          "data": {
            "text/plain": [
              "False"
            ]
          },
          "metadata": {},
          "execution_count": 18
        }
      ]
    },
    {
      "cell_type": "code",
      "source": [
        "NLPModel.vocab['herself'].is_stop"
      ],
      "metadata": {
        "colab": {
          "base_uri": "https://localhost:8080/"
        },
        "id": "IpOHhNOdwlnb",
        "outputId": "8bc6d032-d7cf-484c-f5f2-716fa7b3f9a4"
      },
      "execution_count": null,
      "outputs": [
        {
          "output_type": "execute_result",
          "data": {
            "text/plain": [
              "True"
            ]
          },
          "metadata": {},
          "execution_count": 19
        }
      ]
    },
    {
      "cell_type": "markdown",
      "source": [
        "# Add custom word to the existing model"
      ],
      "metadata": {
        "id": "VDQoRKPCw9AE"
      }
    },
    {
      "cell_type": "code",
      "source": [
        "NLPModel.Defaults.stop_words.add('btw')\n",
        "NLPModel.vocab['btw'].is_stop=True"
      ],
      "metadata": {
        "id": "kWxexbK_w7oF"
      },
      "execution_count": null,
      "outputs": []
    },
    {
      "cell_type": "code",
      "source": [
        "len(NLPModel.Defaults.stop_words)"
      ],
      "metadata": {
        "colab": {
          "base_uri": "https://localhost:8080/"
        },
        "id": "4zk6wJ5M3KcE",
        "outputId": "2f649e8c-d8e7-445e-b85a-4cca55566daf"
      },
      "execution_count": null,
      "outputs": [
        {
          "output_type": "execute_result",
          "data": {
            "text/plain": [
              "330"
            ]
          },
          "metadata": {},
          "execution_count": 21
        }
      ]
    },
    {
      "cell_type": "markdown",
      "source": [
        "# Remove the word from existing model"
      ],
      "metadata": {
        "id": "M8TZxHDFxJ48"
      }
    },
    {
      "cell_type": "code",
      "source": [
        "NLPModel.Defaults.stop_words.remove('herself')\n",
        "NLPModel.vocab['btw'].is_stop=True"
      ],
      "metadata": {
        "id": "mgmDPMiexIQF"
      },
      "execution_count": null,
      "outputs": []
    },
    {
      "cell_type": "code",
      "source": [
        "len(NLPModel.Defaults.stop_words)"
      ],
      "metadata": {
        "colab": {
          "base_uri": "https://localhost:8080/"
        },
        "id": "KWP9onKr3OZS",
        "outputId": "bf731727-b7e0-437a-f73d-11db10ebbc81"
      },
      "execution_count": null,
      "outputs": [
        {
          "output_type": "execute_result",
          "data": {
            "text/plain": [
              "329"
            ]
          },
          "metadata": {},
          "execution_count": 23
        }
      ]
    },
    {
      "cell_type": "markdown",
      "source": [
        "# Pickle"
      ],
      "metadata": {
        "id": "Z1Q_WIsxxRpM"
      }
    },
    {
      "cell_type": "code",
      "source": [
        "stopwordscustom = list(NLPModel.Defaults.stop_words)\n",
        "import pickle\n",
        "pickle.dump(stopwordscustom, open('CustomStopWords.slw','wb'))"
      ],
      "metadata": {
        "id": "ff98160zxUW1"
      },
      "execution_count": null,
      "outputs": []
    },
    {
      "cell_type": "code",
      "source": [],
      "metadata": {
        "id": "LRzR0ak3N_lZ"
      },
      "execution_count": null,
      "outputs": []
    }
  ]
}