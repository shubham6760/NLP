{
  "nbformat": 4,
  "nbformat_minor": 0,
  "metadata": {
    "colab": {
      "provenance": []
    },
    "kernelspec": {
      "name": "python3",
      "display_name": "Python 3"
    },
    "language_info": {
      "name": "python"
    }
  },
  "cells": [
    {
      "cell_type": "markdown",
      "source": [
        "**Regular Expression**"
      ],
      "metadata": {
        "id": "Q-mZlG-stCBJ"
      }
    },
    {
      "cell_type": "markdown",
      "source": [
        "This Concept allows you to perform SEARCH operation on STRING DATA based on YOUR CUSTOM RULES!!!"
      ],
      "metadata": {
        "id": "LMZxRHBTsieB"
      }
    },
    {
      "cell_type": "code",
      "execution_count": null,
      "metadata": {
        "colab": {
          "base_uri": "https://localhost:8080/"
        },
        "id": "Q9deZkTtsago",
        "outputId": "b0d2cac0-c177-45db-8bf7-96d25c3fab08"
      },
      "outputs": [
        {
          "output_type": "execute_result",
          "data": {
            "text/plain": [
              "str"
            ]
          },
          "metadata": {},
          "execution_count": 2
        }
      ],
      "source": [
        "# String\n",
        "\n",
        "text = \"Welcome to Symbiosis Institute of Technology, You are learning NLP.\"\n",
        "type(text)"
      ]
    },
    {
      "cell_type": "code",
      "source": [
        "'nlp' in text # Find wheather nlp in text."
      ],
      "metadata": {
        "colab": {
          "base_uri": "https://localhost:8080/"
        },
        "id": "MiTglaVCtKCc",
        "outputId": "77b47ab1-645d-4640-a553-56db43a0ba70"
      },
      "execution_count": null,
      "outputs": [
        {
          "output_type": "execute_result",
          "data": {
            "text/plain": [
              "False"
            ]
          },
          "metadata": {},
          "execution_count": 5
        }
      ]
    },
    {
      "cell_type": "code",
      "source": [
        "\"nlp\" in text.lower()"
      ],
      "metadata": {
        "colab": {
          "base_uri": "https://localhost:8080/"
        },
        "id": "YCFfch6QtsVK",
        "outputId": "757a0346-29f5-4d99-828d-500875bdfb9a"
      },
      "execution_count": null,
      "outputs": [
        {
          "output_type": "execute_result",
          "data": {
            "text/plain": [
              "True"
            ]
          },
          "metadata": {},
          "execution_count": 7
        }
      ]
    },
    {
      "cell_type": "markdown",
      "source": [
        "Use Regular Expression to check word nlp exist in text"
      ],
      "metadata": {
        "id": "u9fjvCVWucMq"
      }
    },
    {
      "cell_type": "code",
      "source": [
        "import re\n",
        "rule = 'nlp'"
      ],
      "metadata": {
        "id": "naT2I3YBuRhf"
      },
      "execution_count": null,
      "outputs": []
    },
    {
      "cell_type": "markdown",
      "source": [
        "Use search()in re with Rule and String"
      ],
      "metadata": {
        "id": "hfspxCaEur9v"
      }
    },
    {
      "cell_type": "code",
      "source": [
        "re.search(rule,text.lower())"
      ],
      "metadata": {
        "colab": {
          "base_uri": "https://localhost:8080/"
        },
        "id": "am7nqM0quoDf",
        "outputId": "8e725728-6ccb-403e-a3c1-27736f5c55e3"
      },
      "execution_count": null,
      "outputs": [
        {
          "output_type": "execute_result",
          "data": {
            "text/plain": [
              "<re.Match object; span=(63, 66), match='nlp'>"
            ]
          },
          "metadata": {},
          "execution_count": 14
        }
      ]
    },
    {
      "cell_type": "code",
      "source": [
        "text[63:66]"
      ],
      "metadata": {
        "colab": {
          "base_uri": "https://localhost:8080/",
          "height": 35
        },
        "id": "wGeIzbQqu5hA",
        "outputId": "18a752e6-5092-4755-e255-4ca67f223dba"
      },
      "execution_count": null,
      "outputs": [
        {
          "output_type": "execute_result",
          "data": {
            "text/plain": [
              "'NLP'"
            ],
            "application/vnd.google.colaboratory.intrinsic+json": {
              "type": "string"
            }
          },
          "metadata": {},
          "execution_count": 15
        }
      ]
    },
    {
      "cell_type": "markdown",
      "source": [
        "text = \"NLP is greate. NLP is awesome. I am sure my salary will increase because of NLP\"."
      ],
      "metadata": {
        "id": "VlqhziLjvglR"
      }
    },
    {
      "cell_type": "code",
      "source": [
        "text1 = \"NLP is greate. NLP is awesome. I am sure my salary will increase because of NLP\"\n",
        "re.match('NLP',text1)"
      ],
      "metadata": {
        "colab": {
          "base_uri": "https://localhost:8080/"
        },
        "id": "kpGe0yy3vfXA",
        "outputId": "6a67f4b9-b4c2-40ba-96d0-f03db1d7475b"
      },
      "execution_count": null,
      "outputs": [
        {
          "output_type": "execute_result",
          "data": {
            "text/plain": [
              "<re.Match object; span=(0, 3), match='NLP'>"
            ]
          },
          "metadata": {},
          "execution_count": 77
        }
      ]
    },
    {
      "cell_type": "code",
      "source": [
        "text2 = \"NLP is greate. NLP is awesome. I am sure my salary will increase because of NLP\"\n",
        "re.search('NLP',text2)"
      ],
      "metadata": {
        "colab": {
          "base_uri": "https://localhost:8080/"
        },
        "id": "Wm3NEmal2bTs",
        "outputId": "efe75679-792c-4f35-a4a8-00d2a88692ed"
      },
      "execution_count": null,
      "outputs": [
        {
          "output_type": "execute_result",
          "data": {
            "text/plain": [
              "<re.Match object; span=(0, 3), match='NLP'>"
            ]
          },
          "metadata": {},
          "execution_count": 58
        }
      ]
    },
    {
      "cell_type": "code",
      "source": [
        "re.findall('NLP',text)"
      ],
      "metadata": {
        "colab": {
          "base_uri": "https://localhost:8080/"
        },
        "id": "bwT1tm9Vwx1v",
        "outputId": "cc05508b-0232-41b7-cefc-b75aece3fff3"
      },
      "execution_count": null,
      "outputs": [
        {
          "output_type": "execute_result",
          "data": {
            "text/plain": [
              "['NLP', 'NLP', 'NLP']"
            ]
          },
          "metadata": {},
          "execution_count": 28
        }
      ]
    },
    {
      "cell_type": "code",
      "source": [
        "re.split(' ',text)"
      ],
      "metadata": {
        "colab": {
          "base_uri": "https://localhost:8080/"
        },
        "id": "skiypjFgxP4W",
        "outputId": "87978961-7d6c-4095-961a-aa62ab56ff35"
      },
      "execution_count": null,
      "outputs": [
        {
          "output_type": "execute_result",
          "data": {
            "text/plain": [
              "['NLP',\n",
              " 'is',\n",
              " 'greate.',\n",
              " 'NLP',\n",
              " 'is',\n",
              " 'awesome.',\n",
              " 'I',\n",
              " 'am',\n",
              " 'sure',\n",
              " 'my',\n",
              " 'salary',\n",
              " 'will',\n",
              " 'increase',\n",
              " 'because',\n",
              " 'of',\n",
              " 'NLP']"
            ]
          },
          "metadata": {},
          "execution_count": 25
        }
      ]
    },
    {
      "cell_type": "code",
      "source": [
        "for word in re.finditer('NLP',text1):\n",
        "  print(word.span())"
      ],
      "metadata": {
        "colab": {
          "base_uri": "https://localhost:8080/"
        },
        "id": "txSyPuAMxlYy",
        "outputId": "51b9dfcd-ab70-40b4-e3f2-c8ff929f59e8"
      },
      "execution_count": null,
      "outputs": [
        {
          "output_type": "stream",
          "name": "stdout",
          "text": [
            "(0, 3)\n",
            "(15, 18)\n",
            "(76, 79)\n"
          ]
        }
      ]
    },
    {
      "cell_type": "markdown",
      "source": [
        "CUSTOM RULE\n",
        "\n",
        "RULE = only 10 digit from 0-9"
      ],
      "metadata": {
        "id": "l07iIT3a0ce-"
      }
    },
    {
      "cell_type": "code",
      "source": [
        "ruleMobileNo = \"\\d\\d\\d\\d\\d\\d\\d\\d\\d\\d\"\n",
        "print(ruleMobileNo)"
      ],
      "metadata": {
        "colab": {
          "base_uri": "https://localhost:8080/"
        },
        "id": "GoOcfHaTyjAS",
        "outputId": "5ed0e130-3f82-41d4-d92c-9c840053a8b2"
      },
      "execution_count": null,
      "outputs": [
        {
          "output_type": "stream",
          "name": "stdout",
          "text": [
            "\\d\\d\\d\\d\\d\\d\\d\\d\\d\\d\n"
          ]
        }
      ]
    },
    {
      "cell_type": "code",
      "source": [
        "import re\n",
        "phone = re.search(ruleMobileNo, \"My Mobile No is 9876543210\")\n",
        "phone"
      ],
      "metadata": {
        "colab": {
          "base_uri": "https://localhost:8080/"
        },
        "id": "jLAVWezg07wF",
        "outputId": "7d2a8a97-caa3-49ac-dcc4-4b3773be750e"
      },
      "execution_count": null,
      "outputs": [
        {
          "output_type": "execute_result",
          "data": {
            "text/plain": [
              "<re.Match object; span=(16, 26), match='9876543210'>"
            ]
          },
          "metadata": {},
          "execution_count": 45
        }
      ]
    },
    {
      "cell_type": "code",
      "source": [
        "import re\n",
        "ruleMobileNo = '\\d{10}'\n",
        "phone = re.search(ruleMobileNo,\"My Mobile No is 9876543210\")\n",
        "phone.group()"
      ],
      "metadata": {
        "colab": {
          "base_uri": "https://localhost:8080/",
          "height": 35
        },
        "id": "6cvq1MuA1kwT",
        "outputId": "9d3d43aa-6399-4dfd-be83-c6334fcac3ca"
      },
      "execution_count": null,
      "outputs": [
        {
          "output_type": "execute_result",
          "data": {
            "text/plain": [
              "'9876543210'"
            ],
            "application/vnd.google.colaboratory.intrinsic+json": {
              "type": "string"
            }
          },
          "metadata": {},
          "execution_count": 53
        }
      ]
    },
    {
      "cell_type": "code",
      "source": [
        "phone1 = \"My Phone Number is 304-222-8765\"\n",
        "rule1 = '\\d{3}-\\d{3}-\\d{4}'\n",
        "p = re.search(rule1,phone1)\n",
        "p"
      ],
      "metadata": {
        "colab": {
          "base_uri": "https://localhost:8080/"
        },
        "id": "NjsaRrW03a5P",
        "outputId": "f3f1756c-acda-4d35-f136-0bd0d44356a6"
      },
      "execution_count": null,
      "outputs": [
        {
          "output_type": "execute_result",
          "data": {
            "text/plain": [
              "<re.Match object; span=(19, 31), match='304-222-8765'>"
            ]
          },
          "metadata": {},
          "execution_count": 67
        }
      ]
    },
    {
      "cell_type": "code",
      "source": [
        "p.group()"
      ],
      "metadata": {
        "colab": {
          "base_uri": "https://localhost:8080/",
          "height": 35
        },
        "id": "dmuITsMR4Hv6",
        "outputId": "932bed10-b6e3-4869-ae06-53e032d1a6ea"
      },
      "execution_count": null,
      "outputs": [
        {
          "output_type": "execute_result",
          "data": {
            "text/plain": [
              "'304-222-8765'"
            ],
            "application/vnd.google.colaboratory.intrinsic+json": {
              "type": "string"
            }
          },
          "metadata": {},
          "execution_count": 68
        }
      ]
    },
    {
      "cell_type": "markdown",
      "source": [
        "Or operator in regex"
      ],
      "metadata": {
        "id": "ck73KAp6-W_E"
      }
    },
    {
      "cell_type": "code",
      "source": [
        "#Rule to detect Welcome or GoodBye\n",
        "re.search(r\"Welcome|Goodbye\",'Welcome to my world')"
      ],
      "metadata": {
        "colab": {
          "base_uri": "https://localhost:8080/"
        },
        "id": "T_9retv_5lNr",
        "outputId": "1f7263f7-b35e-4e78-f3f6-bcc129d8e8d9"
      },
      "execution_count": null,
      "outputs": [
        {
          "output_type": "execute_result",
          "data": {
            "text/plain": [
              "<re.Match object; span=(0, 7), match='Welcome'>"
            ]
          },
          "metadata": {},
          "execution_count": 69
        }
      ]
    },
    {
      "cell_type": "code",
      "source": [
        "re.search(r\"Welcome|Goodbye\",'Goodbye everybody!')"
      ],
      "metadata": {
        "colab": {
          "base_uri": "https://localhost:8080/"
        },
        "id": "nMR024hN-_AQ",
        "outputId": "ab1e7721-2a73-493a-8ab5-167c551f84d5"
      },
      "execution_count": null,
      "outputs": [
        {
          "output_type": "execute_result",
          "data": {
            "text/plain": [
              "<re.Match object; span=(0, 7), match='Goodbye'>"
            ]
          },
          "metadata": {},
          "execution_count": 71
        }
      ]
    },
    {
      "cell_type": "code",
      "source": [
        "re.search(r\"Welcome|Goodbye\",\"Welcome to my lecture . Goodbye everybody!\")"
      ],
      "metadata": {
        "colab": {
          "base_uri": "https://localhost:8080/"
        },
        "id": "3ohFyykc_H82",
        "outputId": "be6559eb-bf8a-4435-c5af-f6534a7cce0f"
      },
      "execution_count": null,
      "outputs": [
        {
          "output_type": "execute_result",
          "data": {
            "text/plain": [
              "<re.Match object; span=(0, 7), match='Welcome'>"
            ]
          },
          "metadata": {},
          "execution_count": 75
        }
      ]
    },
    {
      "cell_type": "code",
      "source": [
        "re.findall(r\"Welcome|Goodbye\",\"Welcome to my lecture . Goodbye everybody!\")"
      ],
      "metadata": {
        "colab": {
          "base_uri": "https://localhost:8080/"
        },
        "id": "vDFIWupF_czI",
        "outputId": "2cc31b18-4ff5-4be1-eb14-15ede7d7220b"
      },
      "execution_count": null,
      "outputs": [
        {
          "output_type": "execute_result",
          "data": {
            "text/plain": [
              "['Welcome', 'Goodbye']"
            ]
          },
          "metadata": {},
          "execution_count": 78
        }
      ]
    },
    {
      "cell_type": "code",
      "source": [
        "W = re.search(r\"Welcome|Goodbye\",\"Welcome to my lecture . Goodbye everybody!\")\n",
        "W.group()"
      ],
      "metadata": {
        "colab": {
          "base_uri": "https://localhost:8080/",
          "height": 35
        },
        "id": "aBUJMBdyAOV8",
        "outputId": "00b6ff7b-88eb-4090-fe53-145ffcdfba0c"
      },
      "execution_count": null,
      "outputs": [
        {
          "output_type": "execute_result",
          "data": {
            "text/plain": [
              "'Welcome'"
            ],
            "application/vnd.google.colaboratory.intrinsic+json": {
              "type": "string"
            }
          },
          "metadata": {},
          "execution_count": 84
        }
      ]
    },
    {
      "cell_type": "code",
      "source": [],
      "metadata": {
        "id": "iKDFfF7HAXYs"
      },
      "execution_count": null,
      "outputs": []
    }
  ]
}